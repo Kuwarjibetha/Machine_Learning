{
 "cells": [
  {
   "cell_type": "code",
   "execution_count": null,
   "id": "e1fbe801-9749-4959-8243-0ef7e23c5ebe",
   "metadata": {},
   "outputs": [],
   "source": [
    "import os, types, pandas as pd, numpy as np, seaborn as sns, matplotlib.pyplot as plt\n",
    "from botocore.client import Config\n",
    "import ibm_boto3\n",
    "from sklearn.model_selection import train_test_split\n",
    "from sklearn.preprocessing import LabelEncoder\n",
    "from sklearn.ensemble import RandomForestClassifier\n",
    "from sklearn.metrics import classification_report, confusion_matrix, accuracy_score\n",
    "\n",
    "def __iter__(self): return 0\n",
    "\n",
    "# 🔐 IBM Cloud Object Storage credentials (replace if needed)\n",
    "cos_client = ibm_boto3.client(service_name='s3',\n",
    "    ibm_api_key_id='1kngL5OrLamvz4N6tlqLZp4_Z1JIlHvNvzYFt3wJCc7h',\n",
    "    ibm_auth_endpoint=\"https://iam.cloud.ibm.com/identity/token\",\n",
    "    config=Config(signature_version='oauth'),\n",
    "    endpoint_url='https://s3.direct.au-syd.cloud-object-storage.appdomain.cloud')\n",
    "\n",
    "bucket = 'nsappredictionproject-donotdelete-pr-i1xktoke41x2pp'\n",
    "object_key = 'DistrictwisePensiondataundertheNationalSocialAssistanceProgrammeNSAP.csv'\n",
    "body = cos_client.get_object(Bucket=bucket, Key=object_key)['Body']\n",
    "if not hasattr(body, \"__iter__\"): body.__iter__ = types.MethodType(__iter__, body)\n",
    "\n",
    "df = pd.read_csv(body)\n",
    "print(\"✅ Dataset loaded successfully\\n📊 Shape:\", df.shape, \"\\n🧾 Columns:\", df.columns.tolist())\n",
    "\n",
    "df.dropna(inplace=True)\n",
    "label_encoders = {}\n",
    "for col in df.select_dtypes(include='object').columns:\n",
    "    le = LabelEncoder()\n",
    "    df[col] = le.fit_transform(df[col])\n",
    "    label_encoders[col] = le\n",
    "\n",
    "X = df.drop('schemecode', axis=1)\n",
    "y = df['schemecode']\n",
    "X_train, X_test, y_train, y_test = train_test_split(X, y, test_size=0.2, random_state=42)\n",
    "\n",
    "model = RandomForestClassifier(n_estimators=100, random_state=42)\n",
    "model.fit(X_train, y_train)\n",
    "y_pred = model.predict(X_test)\n",
    "\n",
    "print(\"\\n🎯 Accuracy:\", accuracy_score(y_test, y_pred))\n",
    "print(\"\\n📊 Classification Report:\\n\", classification_report(y_test, y_pred))\n",
    "print(\"\\n📌 Confusion Matrix:\\n\", confusion_matrix(y_test, y_pred))\n",
    "\n",
    "importances = model.feature_importances_\n",
    "feat_names = X.columns\n",
    "feat_imp = pd.Series(importances, index=feat_names).sort_values(ascending=False)\n",
    "\n",
    "plt.figure(figsize=(10, 6))\n",
    "sns.barplot(x=feat_imp.values, y=feat_imp.index, palette='Blues_d')\n",
    "plt.title(\"🔍 Feature Importance\")\n",
    "plt.xlabel(\"Importance Score\")\n",
    "plt.ylabel(\"Features\")\n",
    "plt.tight_layout()\n",
    "plt.show()\n"
   ]
  }
 ],
 "metadata": {
  "kernelspec": {
   "display_name": "Python [conda env:base] *",
   "language": "python",
   "name": "conda-base-py"
  },
  "language_info": {
   "codemirror_mode": {
    "name": "ipython",
    "version": 3
   },
   "file_extension": ".py",
   "mimetype": "text/x-python",
   "name": "python",
   "nbconvert_exporter": "python",
   "pygments_lexer": "ipython3",
   "version": "3.12.7"
  }
 },
 "nbformat": 4,
 "nbformat_minor": 5
}
